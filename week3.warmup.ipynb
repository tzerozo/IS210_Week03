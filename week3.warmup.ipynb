{
 "cells": [
  {
   "cell_type": "code",
   "execution_count": 1,
   "metadata": {},
   "outputs": [
    {
     "name": "stdout",
     "output_type": "stream",
     "text": [
      "Nevermore!\n"
     ]
    }
   ],
   "source": [
    "#1variable\n",
    "RAVEN = 'quoth'\n",
    "RAVEN = 'Nevermore!'\n",
    "print RAVEN"
   ]
  },
  {
   "cell_type": "code",
   "execution_count": 2,
   "metadata": {},
   "outputs": [
    {
     "name": "stdout",
     "output_type": "stream",
     "text": [
      "52\n"
     ]
    }
   ],
   "source": [
    "#2parentheses\n",
    "WEEKS = ( 19%10 + 100 + 2**8 ) / 7\n",
    "print WEEKS"
   ]
  },
  {
   "cell_type": "code",
   "execution_count": 7,
   "metadata": {},
   "outputs": [
    {
     "name": "stdout",
     "output_type": "stream",
     "text": [
      "Danger Will Robinson!\n",
      "Danger \n"
     ]
    }
   ],
   "source": [
    "#3slice\n",
    "#test:WILL_ROBINSON = 'Danger Will Robinson!'\n",
    "#test:KLAXON = slice(7)\n",
    "#test:print (WILL_ROBINSON[KLAXON])\n",
    "WILL_ROBINSON = 'Danger Will Robinson!'\n",
    "KLAXON = WILL_ROBINSON[slice(7)]\n",
    "print WILL_ROBINSON\n",
    "print KLAXON"
   ]
  },
  {
   "cell_type": "code",
   "execution_count": 8,
   "metadata": {},
   "outputs": [
    {
     "name": "stdout",
     "output_type": "stream",
     "text": [
      "Danger Danger Danger Danger Danger \n"
     ]
    }
   ],
   "source": [
    "#4repetition\n",
    "KLAXON = KLAXON * 5\n",
    "print KLAXON"
   ]
  },
  {
   "cell_type": "code",
   "execution_count": 9,
   "metadata": {},
   "outputs": [
    {
     "name": "stdout",
     "output_type": "stream",
     "text": [
      "['Michaleangelo', 'Leonardo', 'Rafael', 'Donatello', 'Heroes in a half shell.']\n"
     ]
    }
   ],
   "source": [
    "#5split\n",
    "TEENAGE_MUTANT_NINJAS = ('Michaleangelo. Leonardo. Rafael. Donatello. Heroes '\n",
    "                         'in a half shell.')\n",
    "TURTLE_POWER = TEENAGE_MUTANT_NINJAS.split('. ')\n",
    "print TURTLE_POWER"
   ]
  },
  {
   "cell_type": "code",
   "execution_count": 14,
   "metadata": {},
   "outputs": [
    {
     "name": "stdout",
     "output_type": "stream",
     "text": [
      "A long-tailed cat in a room full of rockin' chairs.\n"
     ]
    }
   ],
   "source": [
    "#6strip\n",
    "NERVOUS_AS = \"\"\"\n",
    "//////////A long-tailed cat in a room full of rockin' chairs.,,,,,,,,,, \"\"\".strip()\n",
    "NERVOUS_AS = NERVOUS_AS.strip( )\n",
    "NERVOUS_AS = NERVOUS_AS.lstrip('/').rstrip(',')\n",
    "print NERVOUS_AS"
   ]
  },
  {
   "cell_type": "code",
   "execution_count": 15,
   "metadata": {},
   "outputs": [
    {
     "name": "stdout",
     "output_type": "stream",
     "text": [
      "Dr. Strangelove Or: How I Learned To Stop Worrying And Love The Bomb\n"
     ]
    }
   ],
   "source": [
    "#7casing\n",
    "MOVIE = 'dr. strangelove or: how i learned to stop worrying and love the bomb'\n",
    "ENTITLED = MOVIE.title()\n",
    "print ENTITLED"
   ]
  },
  {
   "cell_type": "code",
   "execution_count": 17,
   "metadata": {},
   "outputs": [
    {
     "name": "stdout",
     "output_type": "stream",
     "text": [
      "True\n",
      "False\n",
      "None\n",
      "True\n"
     ]
    }
   ],
   "source": [
    "#8basic\n",
    "IS_TRUE  = True\n",
    "IS_FALSE = False\n",
    "IS_NONE  = None\n",
    "INTERGER_EQUIV = IS_TRUE == 1 and IS_FALSE == 0\n",
    "print IS_TRUE\n",
    "print IS_FALSE\n",
    "print IS_NONE\n",
    "print INTERGER_EQUIV"
   ]
  },
  {
   "cell_type": "code",
   "execution_count": null,
   "metadata": {},
   "outputs": [],
   "source": []
  }
 ],
 "metadata": {
  "kernelspec": {
   "display_name": "Python 2",
   "language": "python",
   "name": "python2"
  },
  "language_info": {
   "codemirror_mode": {
    "name": "ipython",
    "version": 2
   },
   "file_extension": ".py",
   "mimetype": "text/x-python",
   "name": "python",
   "nbconvert_exporter": "python",
   "pygments_lexer": "ipython2",
   "version": "2.7.16"
  }
 },
 "nbformat": 4,
 "nbformat_minor": 2
}
